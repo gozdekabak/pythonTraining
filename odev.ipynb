{
  "nbformat": 4,
  "nbformat_minor": 0,
  "metadata": {
    "colab": {
      "name": "odev.ipynb",
      "provenance": [],
      "collapsed_sections": [],
      "authorship_tag": "ABX9TyNK9MraQMaTryn9rGajhw1L",
      "include_colab_link": true
    },
    "kernelspec": {
      "name": "python3",
      "display_name": "Python 3"
    },
    "language_info": {
      "name": "python"
    }
  },
  "cells": [
    {
      "cell_type": "markdown",
      "metadata": {
        "id": "view-in-github",
        "colab_type": "text"
      },
      "source": [
        "<a href=\"https://colab.research.google.com/github/gozdekabak/pythonTraining/blob/main/odev.ipynb\" target=\"_parent\"><img src=\"https://colab.research.google.com/assets/colab-badge.svg\" alt=\"Open In Colab\"/></a>"
      ]
    },
    {
      "cell_type": "code",
      "execution_count": null,
      "metadata": {
        "id": "QH2ASbLMFt7g"
      },
      "outputs": [],
      "source": [
        "bki =  int(input(\"Beden Kitle Indeksinizi Yazınız\")) # 3 tane işlemimiz olsun.\n",
        "\n",
        "if bki < 18.5:\n",
        "    print(\"Zayıf\")\n",
        "elif 25 >= bki > 18.5:\n",
        "    print(\"Normal\")\n",
        "elif 30 >= bki > 25:\n",
        "    print(\"Balık Etli\")\n",
        "else:\n",
        "    print(\"Obozite\")"
      ]
    }
  ]
}